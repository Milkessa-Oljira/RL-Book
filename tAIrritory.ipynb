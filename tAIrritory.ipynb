{
 "cells": [
  {
   "cell_type": "markdown",
   "metadata": {},
   "source": [
    "# tAIrritory"
   ]
  },
  {
   "cell_type": "markdown",
   "metadata": {},
   "source": [
    "#### tAIrritory is a 7x3 turn-based strategy game where two players (P1 and P2) compete to dominate the middle row. Each player controls 6 pieces (3 Type-A and 3 Type-B), with unique movement and interaction rules. The game challenges players to outmaneuver their opponent through tactical decisions.\n",
    "#### Key Features\n",
    "#### Victory Condition: Control the middle row (Row 4) when the game ends, or face a draw.\n",
    "#### Dynamic Rules: Pieces can block or interchange with opponents, and players must always make a valid move.\n",
    "#### AI Integration: Train a reinforcement learning agent (DQN/PPO) to compete with human players.\n",
    "#### GUI Frontend: Play the game through an intuitive, interactive interface.\n",
    "#### tAIrritory combines strategy and artificial intelligence, offering fun gameplay and a platform to explore AI learning."
   ]
  },
  {
   "cell_type": "markdown",
   "metadata": {},
   "source": [
    "### Import neccessary packages"
   ]
  },
  {
   "cell_type": "code",
   "execution_count": 1,
   "metadata": {},
   "outputs": [],
   "source": [
    "import numpy as np\n",
    "import gymnasium as gym\n",
    "import pygame\n",
    "import torch"
   ]
  },
  {
   "cell_type": "markdown",
   "metadata": {},
   "source": [
    "#### Create the GYMnasium environment and implement reset() and step() functions"
   ]
  },
  {
   "cell_type": "code",
   "execution_count": 31,
   "metadata": {},
   "outputs": [],
   "source": [
    "class TAIrritoryEnv(gym.Env):\n",
    "\n",
    "    metadata = {\"render.modes\": [\"human\"]}\n",
    "\n",
    "    def __init__(self):\n",
    "        super(TAIrritoryEnv, self).__init__()\n",
    "        self.board = np.zeros((7, 3), dtype=int)\n",
    "        self._initialize_board()\n",
    "        self.action_space = gym.spaces.Box(low=0, high=np.array([6, 2, 6, 2]), shape=(4,), dtype=int)\n",
    "        self.observation_space = gym.spaces.Box(low=-2, high=2, shape=(7, 3), dtype=np.int8)\n",
    "        self.current_player = 1\n",
    "        self.done = False\n",
    "        self.winner = None\n",
    "    \n",
    "    def _initialize_board(self):\n",
    "        self.board[0] = [2, 1, 2]\n",
    "        self.board[1] = [2, 1, 2]\n",
    "        self.board[5] = [-2, -1, -2]\n",
    "        self.board[6] = [-2, -1, -2]\n",
    "\n",
    "    def reset(self, seed=None, options=None):\n",
    "        super().reset(seed=seed)\n",
    "        self.board = np.zeros((7, 3), dtype=int)\n",
    "        self._initialize_board()\n",
    "        self.current_player = 1\n",
    "        self.done, self.winner = False, None\n",
    "        return self.board, {}\n",
    "    \n",
    "    def _possible_move_for_piece(self, row, col) -> list:\n",
    "        piece = self.board[(row, col)]\n",
    "        possible_moves = []\n",
    "        if self.current_player == 1:\n",
    "            if row > 3:\n",
    "                if piece == -1: \n",
    "                    if col-1 >= 0 and self.board[(col-1, row - 1)] not in [-2, -1, 1]:\n",
    "                        possible_moves.append([col - 1, row - 1])\n",
    "                \n",
    "                    elif self.board[(col, row - 1)] not in [-2, -1, 1]:\n",
    "                        possible_moves.append([col, row - 1])\n",
    "                \n",
    "                    elif col+1 < 2 and self.board[(col+1, row - 1)] not in [-2, -1, 1]:\n",
    "                        possible_moves.append([col + 1, row - 1])\n",
    "                \n",
    "                else: \n",
    "                    if col-1 >= 0 and self.board[(col-1, row - 1)] not in [-2, -1, 2]:\n",
    "                        possible_moves.append([col - 1, row - 1])\n",
    "                \n",
    "                    elif self.board[(col, row - 1)] not in [-2, -1, 2]:\n",
    "                        possible_moves.append([col, row - 1])\n",
    "                    \n",
    "                    elif col+1 < 2 and self.board[(col+1, row - 1)] not in [-2, -1, 2]:\n",
    "                        possible_moves.append([col + 1, row - 1])\n",
    "        \n",
    "        else:\n",
    "            if row < 3:\n",
    "                if piece == 1:\n",
    "                    if col-1 >= 0 and self.board[(col-1, row + 1)] not in [2, 1, -1]:\n",
    "                        possible_moves.append([col - 1, row + 1])\n",
    "                \n",
    "                    elif self.board[(col, row + 1)] not in [2, 1, -1]:\n",
    "                        possible_moves.append([col, row + 1])\n",
    "                    \n",
    "                    elif col+1 < 2 and self.board[(col+1, row + 1)] not in [2, 1, -1]:\n",
    "                        possible_moves.append([col + 1, row + 1])\n",
    "                \n",
    "                else:\n",
    "                    if col-1 >= 0 and self.board[(col-1, row + 1)] not in [2, 1, -2]:\n",
    "                        possible_moves.append([col - 1, row + 1])\n",
    "                \n",
    "                    elif self.board[(col, row + 1)] not in [2, 1, -2]:\n",
    "                        possible_moves.append([col, row + 1])\n",
    "                    \n",
    "                    elif col+1 < 2 and self.board[(col+1, row + 1)] not in [2, 1, -2]:\n",
    "                        possible_moves.append([col + 1, row + 1])\n",
    "        \n",
    "        return possible_moves\n",
    "    \n",
    "    def _is_game_over(self):\n",
    "        game_over = False\n",
    "        for row in range(7):\n",
    "            for col in range(3):\n",
    "                game_over = True if len(self._possible_move_for_piece(row, col)) > 0 else game_over\n",
    "        return game_over\n",
    "    \n",
    "    def step(self, action):\n",
    "        self.board[(action[0], action[1])], self.board[(action[2], action[3])] = \\\n",
    "        self.board[(action[2], action[3])], self.board[(action[0], action[1])]\n",
    "        reward = 0 if not self._is_game_over() else reward = 1 if self.current_player == 2 else reward = -1\n",
    "        terminated = False if reward == 0 else True\n",
    "        truncated = False\n",
    "        info = {}\n",
    "        return self.board, reward, terminated, truncated, info\n",
    "    \n"
   ]
  },
  {
   "cell_type": "markdown",
   "metadata": {},
   "source": [
    "#### Register the new env to call it using gym.make()"
   ]
  },
  {
   "cell_type": "code",
   "execution_count": 32,
   "metadata": {},
   "outputs": [
    {
     "name": "stderr",
     "output_type": "stream",
     "text": [
      "/opt/anaconda3/envs/gymnasium/lib/python3.11/site-packages/gymnasium/envs/registration.py:694: UserWarning: \u001b[33mWARN: Overriding environment gymnasium_env/GridWorld-v0 already in registry.\u001b[0m\n",
      "  logger.warn(f\"Overriding environment {new_spec.id} already in registry.\")\n"
     ]
    }
   ],
   "source": [
    "gym.register(id=\"gymnasium_env/GridWorld-v0\", entry_point=GridWorldEnv)"
   ]
  },
  {
   "cell_type": "markdown",
   "metadata": {},
   "source": [
    "#### Now build a simple tabular model based AI to play the game"
   ]
  },
  {
   "cell_type": "code",
   "execution_count": 39,
   "metadata": {},
   "outputs": [],
   "source": [
    "class Agent:\n",
    "    def __init__(self, env: gym.Env, gamma=0.95, eps = 0.1):\n",
    "        self.env = env\n",
    "        self.gamma = gamma\n",
    "        self.eps = eps\n",
    "        self.state_values = np.zeros(\n",
    "            shape=(self.env.unwrapped.size, self.env.action_space.n),\n",
    "            dtype=np.float32,\n",
    "        )\n",
    "    \n",
    "    def choose_action(self, obs): # simple Value iteration technoque\n",
    "        next_state_vals = []\n",
    "        for action in range(self.env.action_space.n):\n",
    "            if action == 0:\n",
    "                next_state_vals.append(self.state_values[np.clip(obs + np.array([1, 0]), 0, self.env.size - 1)])\n",
    "            elif action == 1:\n",
    "                next_state_vals.append(self.state_values[np.clip(obs + np.array([0, 1]), 0, self.env.size - 1)])\n",
    "            elif action == 2:\n",
    "                next_state_vals.append(self.state_values[np.clip(obs + np.array([-1, 0]), 0, self.env.size - 1)])\n",
    "            else:\n",
    "                next_state_vals.append(self.state_values[np.clip(obs + np.array([0, -1]), 0, self.env.size - 1)])\n",
    "        return np.argmax(next_state_vals) if np.random.random() > self.eps else np.random.choice([0, 1, 2, 3])\n",
    "    \n",
    "    def update_value(self, obs, reward, next_obs):\n",
    "        self.state_values[obs] = reward + self.gamma * self.state_values[next_obs]\n"
   ]
  },
  {
   "cell_type": "code",
   "execution_count": 40,
   "metadata": {},
   "outputs": [],
   "source": [
    "env = gym.make(\"gymnasium_env/GridWorld-v0\", size=4)\n",
    "agent = Agent(env)\n",
    "NUM_EPISODES = 10"
   ]
  },
  {
   "cell_type": "code",
   "execution_count": 41,
   "metadata": {},
   "outputs": [
    {
     "name": "stdout",
     "output_type": "stream",
     "text": [
      "Episode 1 finished in 1 steps!\n",
      "Episode 2 finished in 2 steps!\n"
     ]
    },
    {
     "name": "stderr",
     "output_type": "stream",
     "text": [
      "/opt/anaconda3/envs/gymnasium/lib/python3.11/site-packages/gymnasium/core.py:311: UserWarning: \u001b[33mWARN: env.size to get variables from other wrappers is deprecated and will be removed in v1.0, to get this variable you can do `env.unwrapped.size` for environment variables or `env.get_wrapper_attr('size')` that will search the reminding wrappers.\u001b[0m\n",
      "  logger.warn(\n"
     ]
    },
    {
     "ename": "KeyError",
     "evalue": "8",
     "output_type": "error",
     "traceback": [
      "\u001b[0;31m---------------------------------------------------------------------------\u001b[0m",
      "\u001b[0;31mKeyError\u001b[0m                                  Traceback (most recent call last)",
      "Cell \u001b[0;32mIn[41], line 8\u001b[0m\n\u001b[1;32m      6\u001b[0m step_counter \u001b[38;5;241m+\u001b[39m\u001b[38;5;241m=\u001b[39m \u001b[38;5;241m1\u001b[39m\n\u001b[1;32m      7\u001b[0m action \u001b[38;5;241m=\u001b[39m agent\u001b[38;5;241m.\u001b[39mchoose_action(obs[\u001b[38;5;124m'\u001b[39m\u001b[38;5;124magent\u001b[39m\u001b[38;5;124m'\u001b[39m])\n\u001b[0;32m----> 8\u001b[0m next_obs, reward, term, trunc, _ \u001b[38;5;241m=\u001b[39m \u001b[43menv\u001b[49m\u001b[38;5;241;43m.\u001b[39;49m\u001b[43mstep\u001b[49m\u001b[43m(\u001b[49m\u001b[43maction\u001b[49m\u001b[43m)\u001b[49m\n\u001b[1;32m      9\u001b[0m agent\u001b[38;5;241m.\u001b[39mupdate_value(obs[\u001b[38;5;124m'\u001b[39m\u001b[38;5;124magent\u001b[39m\u001b[38;5;124m'\u001b[39m], reward, next_obs[\u001b[38;5;124m'\u001b[39m\u001b[38;5;124magent\u001b[39m\u001b[38;5;124m'\u001b[39m])\n\u001b[1;32m     10\u001b[0m done \u001b[38;5;241m=\u001b[39m term \u001b[38;5;129;01mor\u001b[39;00m trunc\n",
      "File \u001b[0;32m/opt/anaconda3/envs/gymnasium/lib/python3.11/site-packages/gymnasium/wrappers/order_enforcing.py:56\u001b[0m, in \u001b[0;36mOrderEnforcing.step\u001b[0;34m(self, action)\u001b[0m\n\u001b[1;32m     54\u001b[0m \u001b[38;5;28;01mif\u001b[39;00m \u001b[38;5;129;01mnot\u001b[39;00m \u001b[38;5;28mself\u001b[39m\u001b[38;5;241m.\u001b[39m_has_reset:\n\u001b[1;32m     55\u001b[0m     \u001b[38;5;28;01mraise\u001b[39;00m ResetNeeded(\u001b[38;5;124m\"\u001b[39m\u001b[38;5;124mCannot call env.step() before calling env.reset()\u001b[39m\u001b[38;5;124m\"\u001b[39m)\n\u001b[0;32m---> 56\u001b[0m \u001b[38;5;28;01mreturn\u001b[39;00m \u001b[38;5;28;43mself\u001b[39;49m\u001b[38;5;241;43m.\u001b[39;49m\u001b[43menv\u001b[49m\u001b[38;5;241;43m.\u001b[39;49m\u001b[43mstep\u001b[49m\u001b[43m(\u001b[49m\u001b[43maction\u001b[49m\u001b[43m)\u001b[49m\n",
      "File \u001b[0;32m/opt/anaconda3/envs/gymnasium/lib/python3.11/site-packages/gymnasium/wrappers/env_checker.py:51\u001b[0m, in \u001b[0;36mPassiveEnvChecker.step\u001b[0;34m(self, action)\u001b[0m\n\u001b[1;32m     49\u001b[0m     \u001b[38;5;28;01mreturn\u001b[39;00m env_step_passive_checker(\u001b[38;5;28mself\u001b[39m\u001b[38;5;241m.\u001b[39menv, action)\n\u001b[1;32m     50\u001b[0m \u001b[38;5;28;01melse\u001b[39;00m:\n\u001b[0;32m---> 51\u001b[0m     \u001b[38;5;28;01mreturn\u001b[39;00m \u001b[38;5;28;43mself\u001b[39;49m\u001b[38;5;241;43m.\u001b[39;49m\u001b[43menv\u001b[49m\u001b[38;5;241;43m.\u001b[39;49m\u001b[43mstep\u001b[49m\u001b[43m(\u001b[49m\u001b[43maction\u001b[49m\u001b[43m)\u001b[49m\n",
      "Cell \u001b[0;32mIn[31], line 41\u001b[0m, in \u001b[0;36mGridWorldEnv.step\u001b[0;34m(self, action)\u001b[0m\n\u001b[1;32m     40\u001b[0m \u001b[38;5;28;01mdef\u001b[39;00m \u001b[38;5;21mstep\u001b[39m(\u001b[38;5;28mself\u001b[39m, action):\n\u001b[0;32m---> 41\u001b[0m     direction \u001b[38;5;241m=\u001b[39m \u001b[38;5;28;43mself\u001b[39;49m\u001b[38;5;241;43m.\u001b[39;49m\u001b[43m_action_to_direction\u001b[49m\u001b[43m[\u001b[49m\u001b[43maction\u001b[49m\u001b[43m]\u001b[49m\n\u001b[1;32m     42\u001b[0m     \u001b[38;5;28mself\u001b[39m\u001b[38;5;241m.\u001b[39m_agent_location \u001b[38;5;241m=\u001b[39m np\u001b[38;5;241m.\u001b[39mclip(\u001b[38;5;28mself\u001b[39m\u001b[38;5;241m.\u001b[39m_agent_location \u001b[38;5;241m+\u001b[39m direction, \u001b[38;5;241m0\u001b[39m, \u001b[38;5;28mself\u001b[39m\u001b[38;5;241m.\u001b[39msize \u001b[38;5;241m-\u001b[39m \u001b[38;5;241m1\u001b[39m)\n\u001b[1;32m     43\u001b[0m     terminated \u001b[38;5;241m=\u001b[39m np\u001b[38;5;241m.\u001b[39marray_equal(\u001b[38;5;28mself\u001b[39m\u001b[38;5;241m.\u001b[39m_agent_location, \u001b[38;5;28mself\u001b[39m\u001b[38;5;241m.\u001b[39m_target_location)\n",
      "\u001b[0;31mKeyError\u001b[0m: 8"
     ]
    }
   ],
   "source": [
    "for episode in range(NUM_EPISODES):\n",
    "    done = False\n",
    "    obs, _ = env.reset()\n",
    "    step_counter = 0\n",
    "    while not done:\n",
    "        step_counter += 1\n",
    "        action = agent.choose_action(obs['agent'])\n",
    "        next_obs, reward, term, trunc, _ = env.step(action)\n",
    "        agent.update_value(obs['agent'], reward, next_obs['agent'])\n",
    "        done = term or trunc\n",
    "    print(f\"Episode {episode + 1} finished in {step_counter} steps!\")\n",
    "    env.reset()\n"
   ]
  },
  {
   "cell_type": "code",
   "execution_count": null,
   "metadata": {},
   "outputs": [],
   "source": []
  }
 ],
 "metadata": {
  "kernelspec": {
   "display_name": "gymnasium",
   "language": "python",
   "name": "python3"
  },
  "language_info": {
   "codemirror_mode": {
    "name": "ipython",
    "version": 3
   },
   "file_extension": ".py",
   "mimetype": "text/x-python",
   "name": "python",
   "nbconvert_exporter": "python",
   "pygments_lexer": "ipython3",
   "version": "3.11.10"
  }
 },
 "nbformat": 4,
 "nbformat_minor": 2
}
