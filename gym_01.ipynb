{
 "cells": [
  {
   "cell_type": "markdown",
   "metadata": {},
   "source": [
    "# Gymnasium RL"
   ]
  },
  {
   "cell_type": "code",
   "execution_count": 1,
   "metadata": {},
   "outputs": [],
   "source": [
    "import gymnasium as gym"
   ]
  },
  {
   "cell_type": "code",
   "execution_count": null,
   "metadata": {},
   "outputs": [],
   "source": [
    "env = gym.make(\"CartPole-v1\")\n",
    "\n",
    "trajectory = []\n",
    "state, _ = env.reset()\n",
    "done = False\n",
    "trunc = False\n",
    "total_reward = 0.0\n",
    "\n",
    "while not (done or trunc):\n",
    "    action = env.action_space.sample()\n",
    "    next_state, reward, done, trunc, _ = env.step(action)\n",
    "    trajectory.append([state, action])\n",
    "    total_reward += reward\n",
    "    state = next_state\n",
    "\n",
    "print(\"Total reward:\", total_reward)\n",
    "# trajectory[:10]\n"
   ]
  },
  {
   "cell_type": "markdown",
   "metadata": {},
   "source": [
    "### Interacting with the environment"
   ]
  },
  {
   "cell_type": "code",
   "execution_count": null,
   "metadata": {},
   "outputs": [],
   "source": [
    "env = gym.make(\"LunarLander-v2\", render_mode=\"human\")\n",
    "try:\n",
    "    obs, _ = env.reset()\n",
    "\n",
    "    over = False\n",
    "    while not over:\n",
    "        action = env.action_space.sample()\n",
    "        obs, reward, done, trunc, _ = env.step(action)\n",
    "        over = done or trunc\n",
    "finally:\n",
    "    env.close()"
   ]
  },
  {
   "cell_type": "markdown",
   "metadata": {},
   "source": [
    "### Modifying the environment with Wrappers"
   ]
  },
  {
   "cell_type": "code",
   "execution_count": null,
   "metadata": {},
   "outputs": [],
   "source": [
    "import gymnasium as gym\n",
    "from gymnasium.wrappers import FlattenObservation\n",
    "\n",
    "env = gym.make(\"CarRacing-v2\")\n",
    "env.observation_space.shape\n",
    "wrapped_env = FlattenObservation(env)\n",
    "wrapped_env.observation_space.shape"
   ]
  },
  {
   "cell_type": "markdown",
   "metadata": {},
   "source": [
    "## Q-Learning Agent for Blackjack"
   ]
  },
  {
   "cell_type": "markdown",
   "metadata": {},
   "source": [
    "### Construct the agent and the Blackjack env"
   ]
  },
  {
   "cell_type": "code",
   "execution_count": 20,
   "metadata": {},
   "outputs": [],
   "source": [
    "from collections import defaultdict\n",
    "import gymnasium as gym\n",
    "import numpy as np\n",
    "\n",
    "# Construct the agent with abilities to choose actions and update q_values\n",
    "class BlackjackAgent:\n",
    "    def __init__(self, env:gym.Env, lr: float, eps_init:float, eps_decay:float,\n",
    "                 eps_final:float, dis_factor:float=0.95):\n",
    "        self.env = env\n",
    "        self.q_values = defaultdict(lambda: np.zeros(env.action_space.n))\n",
    "        self.lr = lr\n",
    "        self.dis_factor = dis_factor\n",
    "        self.eps = eps_init\n",
    "        self.eps_decay = eps_decay\n",
    "        self.eps_final = eps_final\n",
    "\n",
    "        self.training_error = []\n",
    "    \n",
    "    def get_action(self, obs: tuple[int, int, bool]) -> int:\n",
    "        if np.random.random() < self.eps: #explore\n",
    "            return self.env.action_space.sample()\n",
    "        else:\n",
    "            return int(np.argmax(self.q_values[obs]))\n",
    "    \n",
    "    def td_update(self, obs: tuple[int, int, bool], action: int, reward: float, \n",
    "               terminated: bool, next_obs: tuple[int, int, bool]):\n",
    "        next_max_q_value = (not terminated) * np.max(self.q_values[next_obs])\n",
    "        td = reward + self.dis_factor* next_max_q_value - self.q_values[obs][action]\n",
    "        self.q_values[obs][action] += self.lr * td\n",
    "        self.training_error.append(td)\n",
    "    \n",
    "    def mc_update(self, trajectory: list[tuple[int, int, bool]], action_list: list, \n",
    "                  reward: list):\n",
    "        for step in range(len(trajectory)):\n",
    "            g_return = np.sum([self.dis_factor ** k * rew for k, rew in enumerate(reward[step:])])\n",
    "            mc = g_return - self.q_values[trajectory[step]][action_list[step]]\n",
    "            self.q_values[trajectory[step]][action_list[step]] += self.lr * mc\n",
    "            self.training_error.append(mc)\n",
    "    \n",
    "    def decay_epsilon(self):\n",
    "        self.eps = max(self.eps_final, self.eps - self.eps_decay)\n",
    "    \n",
    "lr = 0.01\n",
    "n_episodes = 100_000\n",
    "eps_init = 1.0\n",
    "eps_decay = eps_init / (n_episodes / 2)\n",
    "eps_final = 0.1\n",
    "\n",
    "env = gym.make(\"Blackjack-v1\", sab=False)\n",
    "# env = gym.wrappers.RecordEpisodeStatistics(env, deque_size=n_episodes)\n",
    "\n",
    "agent_td = BlackjackAgent(env, lr, eps_init, eps_decay, eps_final)\n",
    "agent_mc = BlackjackAgent(env, lr, eps_init, eps_decay, eps_final)\n"
   ]
  },
  {
   "cell_type": "markdown",
   "metadata": {},
   "source": [
    "### Train the agent"
   ]
  },
  {
   "cell_type": "code",
   "execution_count": null,
   "metadata": {},
   "outputs": [],
   "source": [
    "from tqdm import tqdm\n",
    "\n",
    "#This is training loop for the TD player\n",
    "episodes_record_td = {\"rewards\": [], \"lengths\": []}\n",
    "for episode in tqdm(range(n_episodes)):\n",
    "    obs, _ = env.reset()\n",
    "    done = False\n",
    "    total_reward = 0\n",
    "    episode_len = 0\n",
    "\n",
    "    while not done:\n",
    "        action = agent_td.get_action(obs)\n",
    "        next_obs, reward, term, trunc, _ = env.step(action)\n",
    "        agent_td.td_update(obs, action, reward, term, next_obs)\n",
    "        total_reward += reward\n",
    "        episode_len += 1\n",
    "        done = term or trunc\n",
    "        obs = next_obs\n",
    "    episodes_record_td[\"rewards\"].append(total_reward)\n",
    "    episodes_record_td[\"lengths\"].append(episode_len)\n",
    "    agent_td.decay_epsilon()\n",
    "\n",
    "env.reset()\n",
    "\n",
    "#This is training loop for the MC player\n",
    "episodes_record_mc = {\"rewards\": [], \"lengths\": []}\n",
    "for episode in tqdm(range(n_episodes)):\n",
    "    obs, _ = env.reset()\n",
    "    done = False\n",
    "    episode_len = 0\n",
    "    trajectory = []\n",
    "    action_list = []\n",
    "    reward_list = []\n",
    "\n",
    "    while not done:\n",
    "        action = agent_mc.get_action(obs)\n",
    "        next_obs, reward, term, trunc, _ = env.step(action)\n",
    "        trajectory.append(obs)\n",
    "        action_list.append(action)\n",
    "        reward_list.append(reward)\n",
    "        episode_len += 1\n",
    "        done = term or trunc\n",
    "        obs = next_obs\n",
    "    agent_mc.mc_update(trajectory, action_list, reward_list)\n",
    "    episodes_record_mc[\"rewards\"].append(np.sum(reward_list))\n",
    "    episodes_record_mc[\"lengths\"].append(episode_len)\n",
    "    agent_td.decay_epsilon()\n",
    "\n",
    "env.reset()"
   ]
  },
  {
   "cell_type": "markdown",
   "metadata": {},
   "source": [
    "### Plot summary graph"
   ]
  },
  {
   "cell_type": "code",
   "execution_count": null,
   "metadata": {},
   "outputs": [],
   "source": [
    "from matplotlib import pyplot as plt\n",
    "\n",
    "fig, axs = plt.subplots(2, 3, figsize=(40, 16))\n",
    "\n",
    "axs[0][0].plot(np.convolve(episodes_record_td[\"rewards\"], np.ones(100)))\n",
    "axs[0][0].set_title(\"TD Episode Rewards\")\n",
    "axs[0][0].set_xlabel(\"Episode\")\n",
    "axs[0][0].set_ylabel(\"Reward\")\n",
    "\n",
    "axs[0][1].plot(np.convolve(episodes_record_td[\"lengths\"], np.ones(100)))\n",
    "axs[0][1].set_title(\"TD Episode Lengths\")\n",
    "axs[0][1].set_xlabel(\"Episode\")\n",
    "axs[0][1].set_ylabel(\"Length\")\n",
    "\n",
    "axs[0][2].plot(np.convolve(agent_td.training_error, np.ones(100)))\n",
    "axs[0][2].set_title(\"TD Training Error\")\n",
    "axs[0][2].set_xlabel(\"Episode\")\n",
    "axs[0][2].set_ylabel(\"TD Error\")\n",
    "\n",
    "axs[1][0].plot(np.convolve(episodes_record_mc[\"rewards\"], np.ones(100)))\n",
    "axs[1][0].set_title(\"MC Episode Rewards\")\n",
    "axs[1][0].set_xlabel(\"Episode\")\n",
    "axs[1][0].set_ylabel(\"Reward\")\n",
    "\n",
    "axs[1][1].plot(np.convolve(episodes_record_mc[\"lengths\"], np.ones(100)))\n",
    "axs[1][1].set_title(\"MC Episode Lengths\")\n",
    "axs[1][1].set_xlabel(\"Episode\")\n",
    "axs[1][1].set_ylabel(\"Length\")\n",
    "\n",
    "axs[1][2].plot(np.convolve(agent_mc.training_error, np.ones(100)))\n",
    "axs[1][2].set_title(\"MC Training Error\")\n",
    "axs[1][2].set_xlabel(\"Episode\")\n",
    "axs[1][2].set_ylabel(\"MC Error\")\n"
   ]
  },
  {
   "cell_type": "markdown",
   "metadata": {},
   "source": [
    "## REINFORCE Policy Gradinet for Acrobot Environment"
   ]
  },
  {
   "cell_type": "markdown",
   "metadata": {},
   "source": [
    "### 1, Model"
   ]
  },
  {
   "cell_type": "code",
   "execution_count": 91,
   "metadata": {},
   "outputs": [],
   "source": [
    "import gymnasium as gym\n",
    "import torch\n",
    "import torch.nn as nn\n",
    "import torch.optim as optim\n",
    "import torch.nn.functional as F\n",
    "import numpy as np\n",
    "\n",
    "device = torch.device(\"mps\" if torch.backends.mps.is_available() else \"cpu\")\n",
    "\n",
    "class PolicyModel(nn.Module):\n",
    "    def __init__(self, obs_size: int, action_size: int):\n",
    "        super(PolicyModel, self).__init__()\n",
    "        self.nn = nn.Sequential(\n",
    "            nn.Linear(obs_size, 36),\n",
    "            nn.ReLU(),\n",
    "            nn.Linear(36, 24),\n",
    "            nn.ReLU(),\n",
    "            nn.Linear(24, action_size),\n",
    "            nn.Softmax(dim=-1),\n",
    "        )\n",
    "    \n",
    "    def forward(self, state: torch.Tensor):\n",
    "        return self.nn(state)\n",
    "\n",
    "class AcrobotAgent:\n",
    "    def __init__(self, env: gym.Env, policy_nn: PolicyModel, lr=0.01, gamma=0.99):\n",
    "        self.env = env\n",
    "        self.gamma = gamma\n",
    "        self.policy_nn = policy_nn\n",
    "        self.optimizer = optim.Adam(policy_nn.parameters(), lr=lr)\n",
    "    \n",
    "    def select_action(self, state):\n",
    "        state_tensor = torch.tensor(state, dtype=torch.float32, device=device)\n",
    "        action_probs = self.policy_nn(state_tensor)\n",
    "        action = torch.multinomial(action_probs, num_samples=1).item()\n",
    "        log_prob = torch.log(action_probs[action])\n",
    "        return action, log_prob\n",
    "\n",
    "    def compute_returns(self, rewards):\n",
    "        returns = []\n",
    "        G = 0\n",
    "        for reward in reversed(rewards):\n",
    "            G = reward + self.gamma * G\n",
    "            returns.insert(0, G)\n",
    "        returns = torch.tensor(returns, dtype=torch.float32, device=device)\n",
    "        returns = (returns - returns.mean()) / (returns.std() + 1e-8)\n",
    "        return returns\n",
    "\n",
    "    def update_policy(self, log_probs, returns):\n",
    "        policy_loss = -torch.sum(torch.stack(log_probs) * returns)\n",
    "        self.optimizer.zero_grad()\n",
    "        policy_loss.backward()\n",
    "        self.optimizer.step()\n",
    "        return policy_loss.item()\n"
   ]
  },
  {
   "cell_type": "markdown",
   "metadata": {},
   "source": [
    "### 2, Initialize Environment and Model"
   ]
  },
  {
   "cell_type": "code",
   "execution_count": 92,
   "metadata": {},
   "outputs": [],
   "source": [
    "env = gym.make(\"Acrobot-v1\")\n",
    "obs_size = env.observation_space.shape[0]\n",
    "action_size = env.action_space.n\n",
    "policy_nn = PolicyModel(obs_size, action_size).to(device)\n",
    "agent = AcrobotAgent(env, policy_nn, lr=0.01, gamma=0.99)\n",
    "NUM_EPISODES = 1000\n",
    "NUM_EPISODES_TEST = 250\n"
   ]
  },
  {
   "cell_type": "markdown",
   "metadata": {},
   "source": [
    "### 3, Train the Agent"
   ]
  },
  {
   "cell_type": "code",
   "execution_count": 93,
   "metadata": {},
   "outputs": [
    {
     "name": "stdout",
     "output_type": "stream",
     "text": [
      "Episode 1: Total Reward = -500.0, Policy Loss = 0.1966\n",
      "Episode 2: Total Reward = -500.0, Policy Loss = 0.5102\n",
      "Episode 3: Total Reward = -500.0, Policy Loss = -3.7509\n",
      "Episode 4: Total Reward = -500.0, Policy Loss = 5.6862\n",
      "Episode 5: Total Reward = -500.0, Policy Loss = -3.0333\n",
      "Episode 6: Total Reward = -500.0, Policy Loss = -1.0186\n",
      "Episode 7: Total Reward = -426.0, Policy Loss = -14.0569\n",
      "Episode 8: Total Reward = -500.0, Policy Loss = -7.6594\n",
      "Episode 9: Total Reward = -393.0, Policy Loss = -19.2963\n",
      "Episode 10: Total Reward = -500.0, Policy Loss = -9.8108\n",
      "Episode 11: Total Reward = -500.0, Policy Loss = 3.0859\n",
      "Episode 12: Total Reward = -451.0, Policy Loss = -21.7024\n",
      "Episode 13: Total Reward = -375.0, Policy Loss = -24.9882\n",
      "Episode 14: Total Reward = -429.0, Policy Loss = -14.2944\n",
      "Episode 15: Total Reward = -264.0, Policy Loss = -20.7720\n",
      "Episode 16: Total Reward = -147.0, Policy Loss = -18.1550\n",
      "Episode 17: Total Reward = -227.0, Policy Loss = -9.5194\n",
      "Episode 18: Total Reward = -279.0, Policy Loss = -32.2402\n",
      "Episode 19: Total Reward = -327.0, Policy Loss = -58.4059\n",
      "Episode 20: Total Reward = -319.0, Policy Loss = -45.5666\n",
      "Episode 21: Total Reward = -290.0, Policy Loss = 5.8457\n",
      "Episode 22: Total Reward = -281.0, Policy Loss = -91.8998\n",
      "Episode 23: Total Reward = -163.0, Policy Loss = -23.5316\n",
      "Episode 24: Total Reward = -144.0, Policy Loss = -18.2712\n",
      "Episode 25: Total Reward = -211.0, Policy Loss = -25.4520\n",
      "Episode 26: Total Reward = -242.0, Policy Loss = -61.8360\n",
      "Episode 27: Total Reward = -212.0, Policy Loss = -11.6199\n",
      "Episode 28: Total Reward = -310.0, Policy Loss = -26.0491\n",
      "Episode 29: Total Reward = -227.0, Policy Loss = -33.0879\n",
      "Episode 30: Total Reward = -178.0, Policy Loss = -42.4912\n",
      "Episode 31: Total Reward = -197.0, Policy Loss = -27.6143\n",
      "Episode 32: Total Reward = -199.0, Policy Loss = -36.8593\n",
      "Episode 33: Total Reward = -258.0, Policy Loss = -75.3203\n",
      "Episode 34: Total Reward = -206.0, Policy Loss = -21.3925\n",
      "Episode 35: Total Reward = -205.0, Policy Loss = -24.7178\n",
      "Episode 36: Total Reward = -157.0, Policy Loss = -11.1878\n",
      "Episode 37: Total Reward = -319.0, Policy Loss = -76.8952\n",
      "Episode 38: Total Reward = -125.0, Policy Loss = -2.2049\n",
      "Episode 39: Total Reward = -206.0, Policy Loss = -27.2674\n",
      "Episode 40: Total Reward = -161.0, Policy Loss = -21.2663\n",
      "Episode 41: Total Reward = -201.0, Policy Loss = -41.1794\n",
      "Episode 42: Total Reward = -156.0, Policy Loss = -24.0932\n",
      "Episode 43: Total Reward = -151.0, Policy Loss = -37.5867\n",
      "Episode 44: Total Reward = -152.0, Policy Loss = -18.4338\n",
      "Episode 45: Total Reward = -148.0, Policy Loss = -9.5255\n",
      "Episode 46: Total Reward = -136.0, Policy Loss = -7.6267\n",
      "Episode 47: Total Reward = -174.0, Policy Loss = -19.2518\n",
      "Episode 48: Total Reward = -251.0, Policy Loss = -4.2055\n",
      "Episode 49: Total Reward = -156.0, Policy Loss = -13.5097\n",
      "Episode 50: Total Reward = -236.0, Policy Loss = -37.7275\n",
      "Episode 51: Total Reward = -200.0, Policy Loss = -37.9303\n",
      "Episode 52: Total Reward = -160.0, Policy Loss = -36.5607\n",
      "Episode 53: Total Reward = -155.0, Policy Loss = -18.2110\n",
      "Episode 54: Total Reward = -197.0, Policy Loss = -36.6758\n",
      "Episode 55: Total Reward = -140.0, Policy Loss = -18.5773\n",
      "Episode 56: Total Reward = -190.0, Policy Loss = -40.3034\n",
      "Episode 57: Total Reward = -178.0, Policy Loss = -13.6559\n",
      "Episode 58: Total Reward = -207.0, Policy Loss = -16.9563\n",
      "Episode 59: Total Reward = -223.0, Policy Loss = -36.9028\n",
      "Episode 60: Total Reward = -178.0, Policy Loss = -22.7666\n",
      "Episode 61: Total Reward = -175.0, Policy Loss = -16.2984\n",
      "Episode 62: Total Reward = -230.0, Policy Loss = -9.3355\n",
      "Episode 63: Total Reward = -166.0, Policy Loss = -7.5901\n",
      "Episode 64: Total Reward = -184.0, Policy Loss = 4.4884\n",
      "Episode 65: Total Reward = -256.0, Policy Loss = -36.8863\n",
      "Episode 66: Total Reward = -171.0, Policy Loss = -6.2519\n",
      "Episode 67: Total Reward = -155.0, Policy Loss = -5.9150\n",
      "Episode 68: Total Reward = -170.0, Policy Loss = -14.2861\n",
      "Episode 69: Total Reward = -171.0, Policy Loss = -25.2952\n",
      "Episode 70: Total Reward = -188.0, Policy Loss = -19.2782\n",
      "Episode 71: Total Reward = -189.0, Policy Loss = -14.4228\n",
      "Episode 72: Total Reward = -195.0, Policy Loss = -27.5667\n",
      "Episode 73: Total Reward = -177.0, Policy Loss = -26.9286\n",
      "Episode 74: Total Reward = -189.0, Policy Loss = -18.0999\n",
      "Episode 75: Total Reward = -185.0, Policy Loss = -21.8888\n",
      "Episode 76: Total Reward = -171.0, Policy Loss = -9.3983\n",
      "Episode 77: Total Reward = -232.0, Policy Loss = -24.3976\n",
      "Episode 78: Total Reward = -197.0, Policy Loss = -22.3051\n",
      "Episode 79: Total Reward = -175.0, Policy Loss = -10.7352\n",
      "Episode 80: Total Reward = -222.0, Policy Loss = -37.0775\n",
      "Episode 81: Total Reward = -176.0, Policy Loss = 9.0973\n",
      "Episode 82: Total Reward = -179.0, Policy Loss = -21.4727\n",
      "Episode 83: Total Reward = -219.0, Policy Loss = -18.1817\n",
      "Episode 84: Total Reward = -225.0, Policy Loss = -27.6739\n",
      "Episode 85: Total Reward = -151.0, Policy Loss = -21.6286\n",
      "Episode 86: Total Reward = -168.0, Policy Loss = -21.7893\n",
      "Episode 87: Total Reward = -229.0, Policy Loss = -12.8607\n",
      "Episode 88: Total Reward = -279.0, Policy Loss = -15.8652\n",
      "Episode 89: Total Reward = -160.0, Policy Loss = -28.7523\n",
      "Episode 90: Total Reward = -147.0, Policy Loss = -7.3463\n",
      "Episode 91: Total Reward = -212.0, Policy Loss = -36.0655\n",
      "Episode 92: Total Reward = -212.0, Policy Loss = -15.8741\n",
      "Episode 93: Total Reward = -148.0, Policy Loss = -7.7206\n",
      "Episode 94: Total Reward = -187.0, Policy Loss = -13.3261\n",
      "Episode 95: Total Reward = -171.0, Policy Loss = -18.5959\n",
      "Episode 96: Total Reward = -145.0, Policy Loss = -18.5408\n",
      "Episode 97: Total Reward = -178.0, Policy Loss = -19.1193\n",
      "Episode 98: Total Reward = -270.0, Policy Loss = -28.5098\n",
      "Episode 99: Total Reward = -163.0, Policy Loss = -23.2505\n",
      "Episode 100: Total Reward = -205.0, Policy Loss = -18.2922\n",
      "Episode 101: Total Reward = -185.0, Policy Loss = -12.2165\n",
      "Episode 102: Total Reward = -222.0, Policy Loss = 1.5640\n",
      "Episode 103: Total Reward = -160.0, Policy Loss = -1.4572\n",
      "Episode 104: Total Reward = -235.0, Policy Loss = -16.0318\n",
      "Episode 105: Total Reward = -157.0, Policy Loss = -1.6750\n",
      "Episode 106: Total Reward = -244.0, Policy Loss = -22.5847\n",
      "Episode 107: Total Reward = -208.0, Policy Loss = -27.7265\n",
      "Episode 108: Total Reward = -248.0, Policy Loss = -23.6942\n",
      "Episode 109: Total Reward = -159.0, Policy Loss = -7.2740\n",
      "Episode 110: Total Reward = -230.0, Policy Loss = -13.3704\n",
      "Episode 111: Total Reward = -153.0, Policy Loss = 1.7909\n",
      "Episode 112: Total Reward = -165.0, Policy Loss = -4.0286\n",
      "Episode 113: Total Reward = -297.0, Policy Loss = 0.1717\n",
      "Episode 114: Total Reward = -238.0, Policy Loss = 1.3892\n",
      "Episode 115: Total Reward = -189.0, Policy Loss = -6.1804\n",
      "Episode 116: Total Reward = -249.0, Policy Loss = -16.9962\n",
      "Episode 117: Total Reward = -192.0, Policy Loss = -3.1232\n",
      "Episode 118: Total Reward = -420.0, Policy Loss = -15.5616\n",
      "Episode 119: Total Reward = -379.0, Policy Loss = 10.6511\n",
      "Episode 120: Total Reward = -500.0, Policy Loss = 14.8773\n",
      "Episode 121: Total Reward = -500.0, Policy Loss = -10.5769\n",
      "Episode 122: Total Reward = -500.0, Policy Loss = -4.1220\n",
      "Episode 123: Total Reward = -500.0, Policy Loss = 11.2040\n",
      "Episode 124: Total Reward = -500.0, Policy Loss = -0.0402\n",
      "Episode 125: Total Reward = -418.0, Policy Loss = 5.0504\n",
      "Episode 126: Total Reward = -500.0, Policy Loss = 5.0532\n",
      "Episode 127: Total Reward = -307.0, Policy Loss = 11.8448\n",
      "Episode 128: Total Reward = -481.0, Policy Loss = 14.7576\n",
      "Episode 129: Total Reward = -500.0, Policy Loss = 42.7524\n",
      "Episode 130: Total Reward = -500.0, Policy Loss = -0.0232\n"
     ]
    },
    {
     "ename": "KeyboardInterrupt",
     "evalue": "",
     "output_type": "error",
     "traceback": [
      "\u001b[0;31m---------------------------------------------------------------------------\u001b[0m",
      "\u001b[0;31mKeyboardInterrupt\u001b[0m                         Traceback (most recent call last)",
      "Cell \u001b[0;32mIn[93], line 9\u001b[0m\n\u001b[1;32m      6\u001b[0m total_reward \u001b[38;5;241m=\u001b[39m \u001b[38;5;241m0\u001b[39m\n\u001b[1;32m      8\u001b[0m \u001b[38;5;28;01mwhile\u001b[39;00m \u001b[38;5;28;01mTrue\u001b[39;00m:\n\u001b[0;32m----> 9\u001b[0m     action, log_prob \u001b[38;5;241m=\u001b[39m \u001b[43magent\u001b[49m\u001b[38;5;241;43m.\u001b[39;49m\u001b[43mselect_action\u001b[49m\u001b[43m(\u001b[49m\u001b[43mstate\u001b[49m\u001b[43m)\u001b[49m\n\u001b[1;32m     10\u001b[0m     state, reward, done, truncated, _ \u001b[38;5;241m=\u001b[39m env\u001b[38;5;241m.\u001b[39mstep(action)\n\u001b[1;32m     11\u001b[0m     log_probs\u001b[38;5;241m.\u001b[39mappend(log_prob)\n",
      "Cell \u001b[0;32mIn[91], line 35\u001b[0m, in \u001b[0;36mAcrobotAgent.select_action\u001b[0;34m(self, state)\u001b[0m\n\u001b[1;32m     33\u001b[0m state_tensor \u001b[38;5;241m=\u001b[39m torch\u001b[38;5;241m.\u001b[39mtensor(state, dtype\u001b[38;5;241m=\u001b[39mtorch\u001b[38;5;241m.\u001b[39mfloat32, device\u001b[38;5;241m=\u001b[39mdevice)\n\u001b[1;32m     34\u001b[0m action_probs \u001b[38;5;241m=\u001b[39m \u001b[38;5;28mself\u001b[39m\u001b[38;5;241m.\u001b[39mpolicy_nn(state_tensor)\n\u001b[0;32m---> 35\u001b[0m action \u001b[38;5;241m=\u001b[39m \u001b[43mtorch\u001b[49m\u001b[38;5;241;43m.\u001b[39;49m\u001b[43mmultinomial\u001b[49m\u001b[43m(\u001b[49m\u001b[43maction_probs\u001b[49m\u001b[43m,\u001b[49m\u001b[43m \u001b[49m\u001b[43mnum_samples\u001b[49m\u001b[38;5;241;43m=\u001b[39;49m\u001b[38;5;241;43m1\u001b[39;49m\u001b[43m)\u001b[49m\u001b[38;5;241m.\u001b[39mitem()\n\u001b[1;32m     36\u001b[0m log_prob \u001b[38;5;241m=\u001b[39m torch\u001b[38;5;241m.\u001b[39mlog(action_probs[action])\n\u001b[1;32m     37\u001b[0m \u001b[38;5;28;01mreturn\u001b[39;00m action, log_prob\n",
      "\u001b[0;31mKeyboardInterrupt\u001b[0m: "
     ]
    }
   ],
   "source": [
    "succussful_episode_count = 0\n",
    "for episode in range(NUM_EPISODES):\n",
    "        state = env.reset()[0]\n",
    "        log_probs = []\n",
    "        rewards = []\n",
    "        total_reward = 0\n",
    "\n",
    "        while True:\n",
    "            action, log_prob = agent.select_action(state)\n",
    "            state, reward, done, truncated, _ = env.step(action)\n",
    "            log_probs.append(log_prob)\n",
    "            rewards.append(reward)\n",
    "            total_reward += reward\n",
    "\n",
    "            if done or truncated:\n",
    "                break\n",
    "        returns = agent.compute_returns(rewards)\n",
    "        policy_loss = agent.update_policy(log_probs, returns)\n",
    "        print(f\"Episode {episode + 1}: Total Reward = {total_reward}, Policy Loss = {policy_loss:.4f}\")\n",
    "        if total_reward >= -100:\n",
    "            succussful_episode_count += 1\n",
    "        if succussful_episode_count > 250:\n",
    "             print(f\"Environment solved in {episode + 1} episodes!\")\n",
    "             break"
   ]
  },
  {
   "cell_type": "markdown",
   "metadata": {},
   "source": [
    "### 4, Test the Agent"
   ]
  },
  {
   "cell_type": "code",
   "execution_count": 63,
   "metadata": {},
   "outputs": [
    {
     "name": "stderr",
     "output_type": "stream",
     "text": [
      "100%|██████████| 25/25 [00:04<00:00,  5.45it/s]\n"
     ]
    },
    {
     "data": {
      "text/plain": [
       "Text(0, 0.5, 'Total Reward')"
      ]
     },
     "execution_count": 63,
     "metadata": {},
     "output_type": "execute_result"
    },
    {
     "data": {
      "image/png": "[encoded data removed]",
      "text/plain": [
       "<Figure size 640x480 with 1 Axes>"
      ]
     },
     "metadata": {},
     "output_type": "display_data"
    }
   ],
   "source": [
    "from tqdm import tqdm\n",
    "from matplotlib import pyplot as plt\n",
    "\n",
    "env = gym.make(\"Acrobot-v1\")\n",
    "episodes_record = []\n",
    "for episode in tqdm(range(25)):\n",
    "    obs, _ = env.reset()\n",
    "    done = False\n",
    "    total_reward = 0\n",
    "    while not done:\n",
    "        action, _ = agent.select_action(obs)\n",
    "        obs, reward, term, trunc, _ = env.step(action)\n",
    "        done = term or trunc\n",
    "        total_reward += reward\n",
    "    episodes_record.append(total_reward)\n",
    "\n",
    "ax = plt.subplot(1, 1, 1)\n",
    "ax.plot(range(len(episodes_record)), episodes_record)\n",
    "ax.set_title(\"Test Rewards per Episode\")\n",
    "ax.set_xlabel(\"Episode\")\n",
    "ax.set_ylabel(\"Total Reward\")"
   ]
  },
  {
   "cell_type": "code",
   "execution_count": null,
   "metadata": {},
   "outputs": [],
   "source": []
  }
 ],
 "metadata": {
  "kernelspec": {
   "display_name": "gymnasium",
   "language": "python",
   "name": "python3"
  },
  "language_info": {
   "codemirror_mode": {
    "name": "ipython",
    "version": 3
   },
   "file_extension": ".py",
   "mimetype": "text/x-python",
   "name": "python",
   "nbconvert_exporter": "python",
   "pygments_lexer": "ipython3",
   "version": "3.11.10"
  }
 },
 "nbformat": 4,
 "nbformat_minor": 2
}
