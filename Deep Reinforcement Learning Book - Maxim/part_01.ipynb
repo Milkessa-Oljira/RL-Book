{
 "cells": [
  {
   "cell_type": "markdown",
   "metadata": {},
   "source": [
    "# What is Reinforcement Learning?"
   ]
  },
  {
   "cell_type": "markdown",
   "metadata": {},
   "source": [
    "### An agent is somebody or something who/that interacts with the environment by executing certain actions, making observations, and receiving rewards for this."
   ]
  },
  {
   "cell_type": "markdown",
   "metadata": {},
   "source": [
    "# Supervised Learning\n",
    "### Learning to map one or more random variables (features) to another random variable (target)\n",
    "##### i.e $$f : X -> \\widetilde{Y}$$, where $X = \\{X^{(1)}, x^{(2)}, ..., X^{(d)}\\}$ is the set of features and $\\widetilde{Y}$ is the approximation of $Y$ by $f$ which can be learned with a cost function $C : C = kernel(Y, \\widetilde{Y})$"
   ]
  },
  {
   "cell_type": "markdown",
   "metadata": {},
   "source": [
    "## Markov Decision Processes (MDPs)\n",
    "### A process is markovian if the probability of the next state is only dependent on the current state and the action taken.\n",
    "#### i.e $$p ( S = s_{t+1} | s_t, a_t, s_{t-1}, ...) = p ( S = s_{t+1} | s_t, a_t)$$"
   ]
  },
  {
   "cell_type": "markdown",
   "metadata": {},
   "source": [
    "## Policy ($\\pi$)\n",
    "### Policy is a mapping of states to actions, defines the probability of taking a specific action in a specific state.\n",
    "#### i.e $$\\pi ( a | s ) = P[A_t = a | S_t = s]$$"
   ]
  },
  {
   "cell_type": "markdown",
   "metadata": {},
   "source": [
    "# Gymnasium"
   ]
  },
  {
   "cell_type": "code",
   "execution_count": 3,
   "metadata": {},
   "outputs": [],
   "source": [
    "import gymnasium as gym"
   ]
  },
  {
   "cell_type": "code",
   "execution_count": 12,
   "metadata": {},
   "outputs": [
    {
     "data": {
      "text/plain": [
       "(array([-0.03027839,  0.24236609,  0.04314105, -0.24068168], dtype=float32),\n",
       " 1.0,\n",
       " False,\n",
       " False,\n",
       " {})"
      ]
     },
     "execution_count": 12,
     "metadata": {},
     "output_type": "execute_result"
    }
   ],
   "source": [
    "env = gym.make(\"CartPole-v1\")\n",
    "env.observation_space.sample()\n",
    "env.reset()\n",
    "env.step(1)"
   ]
  },
  {
   "cell_type": "code",
   "execution_count": 16,
   "metadata": {},
   "outputs": [
    {
     "name": "stdout",
     "output_type": "stream",
     "text": [
      "total reward :  29.0\n"
     ]
    }
   ],
   "source": [
    "env.reset()\n",
    "total_reward = 0\n",
    "while True:\n",
    "    action = env.action_space.sample()\n",
    "    _, reward, is_done, is_trunc, _ = env.step(action)\n",
    "    total_reward += reward\n",
    "    if is_done or is_trunc:\n",
    "        break\n",
    "print(f'total reward :  {total_reward}')"
   ]
  },
  {
   "cell_type": "code",
   "execution_count": 4,
   "metadata": {},
   "outputs": [
    {
     "name": "stdout",
     "output_type": "stream",
     "text": [
      "Random action 0\n",
      "Total step 9\n"
     ]
    }
   ],
   "source": [
    "import random\n",
    "\n",
    "class RandomActionWrapper(gym.ActionWrapper):\n",
    "    def __init__(self, env: gym.Env, epsilon: float = 0.8):\n",
    "        super(RandomActionWrapper, self).__init__(env)\n",
    "        self.epsilon = epsilon\n",
    "    \n",
    "    def action(self, action: gym.core.WrapperActType) -> gym.core.WrapperActType:\n",
    "        if random.random() < self.epsilon:\n",
    "            action = self.env.action_space.sample()\n",
    "            print(f\"Random action {action}\")\n",
    "            return action\n",
    "        return action\n",
    "\n",
    "env = RandomActionWrapper(gym.make(\"CartPole-v1\"), epsilon=0.1)\n",
    "env.reset()\n",
    "total_step = 0\n",
    "while True:\n",
    "    _, rew, done, _, _ = env.step(0)\n",
    "    total_step += 1\n",
    "    if done:\n",
    "        env.reset()\n",
    "        break\n",
    "print(\"Total step %d\" % (total_step))"
   ]
  },
  {
   "cell_type": "code",
   "execution_count": null,
   "metadata": {},
   "outputs": [],
   "source": []
  }
 ],
 "metadata": {
  "kernelspec": {
   "display_name": "gymnasium",
   "language": "python",
   "name": "python3"
  },
  "language_info": {
   "codemirror_mode": {
    "name": "ipython",
    "version": 3
   },
   "file_extension": ".py",
   "mimetype": "text/x-python",
   "name": "python",
   "nbconvert_exporter": "python",
   "pygments_lexer": "ipython3",
   "version": "3.11.10"
  }
 },
 "nbformat": 4,
 "nbformat_minor": 2
}
