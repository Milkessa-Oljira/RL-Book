{
 "cells": [
  {
   "cell_type": "markdown",
   "id": "8f12d7f9",
   "metadata": {},
   "source": [
    "# Deep Q-Networks\n",
    "\n",
    "### $$ Q(s_t, a_t) = r_t + \\gamma \\max_{a_{t+1} \\in A} Q(s_{t+1}, a_{t+1}) $$"
   ]
  },
  {
   "cell_type": "code",
   "execution_count": null,
   "id": "27c97566",
   "metadata": {
    "vscode": {
     "languageId": "plaintext"
    }
   },
   "outputs": [],
   "source": []
  }
 ],
 "metadata": {
  "language_info": {
   "name": "python"
  }
 },
 "nbformat": 4,
 "nbformat_minor": 5
}
